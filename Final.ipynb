{
 "cells": [
  {
   "cell_type": "code",
   "execution_count": 2,
   "metadata": {},
   "outputs": [
    {
     "name": "stderr",
     "output_type": "stream",
     "text": [
      "Using TensorFlow backend.\n"
     ]
    }
   ],
   "source": [
    "import numpy as np \n",
    "import pandas as pd \n",
    "from keras.preprocessing.image import ImageDataGenerator, load_img\n",
    "from keras.utils import to_categorical\n",
    "from sklearn.model_selection import train_test_split\n",
    "import matplotlib.pyplot as plt\n",
    "import random"
   ]
  },
  {
   "cell_type": "code",
   "execution_count": 3,
   "metadata": {},
   "outputs": [],
   "source": [
    "FAST_RUN = False\n",
    "IMAGE_WIDTH=128\n",
    "IMAGE_HEIGHT=128\n",
    "IMAGE_SIZE=(IMAGE_WIDTH, IMAGE_HEIGHT)\n",
    "IMAGE_CHANNELS=3 # RGB color"
   ]
  },
  {
   "cell_type": "code",
   "execution_count": 4,
   "metadata": {},
   "outputs": [],
   "source": [
    "from keras.models import Sequential\n",
    "from keras.layers import Conv2D, MaxPooling2D, Dropout, Flatten, Dense, Activation, BatchNormalization"
   ]
  },
  {
   "cell_type": "code",
   "execution_count": 5,
   "metadata": {},
   "outputs": [],
   "source": [
    "model = Sequential()"
   ]
  },
  {
   "cell_type": "code",
   "execution_count": 6,
   "metadata": {},
   "outputs": [
    {
     "name": "stdout",
     "output_type": "stream",
     "text": [
      "WARNING:tensorflow:From C:\\Users\\Funbox\\Anaconda3\\lib\\site-packages\\tensorflow\\python\\framework\\op_def_library.py:263: colocate_with (from tensorflow.python.framework.ops) is deprecated and will be removed in a future version.\n",
      "Instructions for updating:\n",
      "Colocations handled automatically by placer.\n",
      "WARNING:tensorflow:From C:\\Users\\Funbox\\Anaconda3\\lib\\site-packages\\keras\\backend\\tensorflow_backend.py:3445: calling dropout (from tensorflow.python.ops.nn_ops) with keep_prob is deprecated and will be removed in a future version.\n",
      "Instructions for updating:\n",
      "Please use `rate` instead of `keep_prob`. Rate should be set to `rate = 1 - keep_prob`.\n"
     ]
    }
   ],
   "source": [
    "model.add(Conv2D(32, (3, 3), activation='relu', input_shape=(IMAGE_WIDTH, IMAGE_HEIGHT, IMAGE_CHANNELS)))\n",
    "model.add(BatchNormalization())\n",
    "model.add(MaxPooling2D(pool_size=(2, 2)))\n",
    "model.add(Dropout(0.25))"
   ]
  },
  {
   "cell_type": "code",
   "execution_count": 7,
   "metadata": {},
   "outputs": [],
   "source": [
    "model.add(Conv2D(64, (3, 3), activation='relu'))\n",
    "model.add(BatchNormalization())\n",
    "model.add(MaxPooling2D(pool_size=(2, 2)))\n",
    "model.add(Dropout(0.25))"
   ]
  },
  {
   "cell_type": "code",
   "execution_count": 8,
   "metadata": {},
   "outputs": [],
   "source": [
    "model.add(Conv2D(128, (3, 3), activation='relu'))\n",
    "model.add(BatchNormalization())\n",
    "model.add(MaxPooling2D(pool_size=(2, 2)))\n",
    "model.add(Dropout(0.25))"
   ]
  },
  {
   "cell_type": "code",
   "execution_count": 9,
   "metadata": {},
   "outputs": [],
   "source": [
    "model.add(Flatten())\n",
    "model.add(Dense(512, activation='relu'))\n",
    "model.add(BatchNormalization())\n",
    "model.add(Dropout(0.5))\n",
    "model.add(Dense(8, activation='softmax'))"
   ]
  },
  {
   "cell_type": "code",
   "execution_count": 10,
   "metadata": {},
   "outputs": [],
   "source": [
    "model.compile(loss='categorical_crossentropy', optimizer='rmsprop', metrics=['accuracy'])"
   ]
  },
  {
   "cell_type": "code",
   "execution_count": 11,
   "metadata": {},
   "outputs": [],
   "source": [
    "from keras.callbacks import EarlyStopping, ReduceLROnPlateau"
   ]
  },
  {
   "cell_type": "code",
   "execution_count": 12,
   "metadata": {},
   "outputs": [],
   "source": [
    "earlystop = EarlyStopping(patience=10)"
   ]
  },
  {
   "cell_type": "code",
   "execution_count": 13,
   "metadata": {},
   "outputs": [],
   "source": [
    "learning_rate_reduction = ReduceLROnPlateau(monitor='val_acc', \n",
    "                                            patience=2, \n",
    "                                            verbose=1, \n",
    "                                            factor=0.5, \n",
    "                                            min_lr=0.00001)"
   ]
  },
  {
   "cell_type": "code",
   "execution_count": 14,
   "metadata": {},
   "outputs": [],
   "source": [
    "callbacks = [earlystop, learning_rate_reduction]"
   ]
  },
  {
   "cell_type": "code",
   "execution_count": 15,
   "metadata": {},
   "outputs": [],
   "source": [
    "train_datagen = ImageDataGenerator(\n",
    "    rotation_range=15,\n",
    "    rescale=1./255,\n",
    "    shear_range=0.1,\n",
    "    zoom_range=0.2,\n",
    "    horizontal_flip=True,\n",
    "    width_shift_range=0.1,\n",
    "    height_shift_range=0.1\n",
    ")"
   ]
  },
  {
   "cell_type": "code",
   "execution_count": 16,
   "metadata": {},
   "outputs": [],
   "source": [
    "test_datagen = ImageDataGenerator(rescale=1./255)"
   ]
  },
  {
   "cell_type": "code",
   "execution_count": 17,
   "metadata": {},
   "outputs": [
    {
     "name": "stdout",
     "output_type": "stream",
     "text": [
      "Found 3841 images belonging to 8 classes.\n"
     ]
    }
   ],
   "source": [
    "x_train = train_datagen.flow_from_directory(r'C:\\Users\\Funbox\\Desktop\\Dataset2\\Training',\n",
    "                                                 target_size = (128, 128),\n",
    "                                                 batch_size = 32,\n",
    "                                                     class_mode = 'categorical')"
   ]
  },
  {
   "cell_type": "code",
   "execution_count": 18,
   "metadata": {},
   "outputs": [
    {
     "name": "stdout",
     "output_type": "stream",
     "text": [
      "Found 1288 images belonging to 8 classes.\n"
     ]
    }
   ],
   "source": [
    "x_test = test_datagen.flow_from_directory(r'C:\\Users\\Funbox\\Desktop\\Dataset2\\Test',\n",
    "                                            target_size = (128, 128),\n",
    "                                            batch_size = 32,\n",
    "                                            class_mode = 'categorical')"
   ]
  },
  {
   "cell_type": "code",
   "execution_count": 19,
   "metadata": {},
   "outputs": [
    {
     "name": "stdout",
     "output_type": "stream",
     "text": [
      "{'Apple Golden 2': 0, 'Apricot': 1, 'Avocado': 2, 'Cantaloupe 1': 3, 'Huckleberry': 4, 'Kiwi': 5, 'Mandarine': 6, 'Strawberry': 7}\n"
     ]
    }
   ],
   "source": [
    "print(x_train.class_indices)"
   ]
  },
  {
   "cell_type": "code",
   "execution_count": 20,
   "metadata": {},
   "outputs": [
    {
     "name": "stdout",
     "output_type": "stream",
     "text": [
      "WARNING:tensorflow:From C:\\Users\\Funbox\\Anaconda3\\lib\\site-packages\\tensorflow\\python\\ops\\math_ops.py:3066: to_int32 (from tensorflow.python.ops.math_ops) is deprecated and will be removed in a future version.\n",
      "Instructions for updating:\n",
      "Use tf.cast instead.\n",
      "Epoch 1/50\n",
      "120/120 [==============================] - 279s 2s/step - loss: 0.1920 - acc: 0.9417 - val_loss: 0.9404 - val_acc: 0.7906\n",
      "Epoch 2/50\n",
      "120/120 [==============================] - 234s 2s/step - loss: 0.0818 - acc: 0.9738 - val_loss: 4.0245e-04 - val_acc: 1.0000\n",
      "Epoch 3/50\n",
      "120/120 [==============================] - 249s 2s/step - loss: 0.0374 - acc: 0.9863 - val_loss: 0.1159 - val_acc: 0.9448\n",
      "Epoch 4/50\n",
      "120/120 [==============================] - 260s 2s/step - loss: 0.0307 - acc: 0.9883 - val_loss: 2.6470e-06 - val_acc: 1.0000\n",
      "\n",
      "Epoch 00004: ReduceLROnPlateau reducing learning rate to 0.0005000000237487257.\n",
      "Epoch 5/50\n",
      "120/120 [==============================] - 249s 2s/step - loss: 0.0193 - acc: 0.9915 - val_loss: 0.5537 - val_acc: 0.9156\n",
      "Epoch 6/50\n",
      "120/120 [==============================] - 248s 2s/step - loss: 0.0191 - acc: 0.9915 - val_loss: 0.0021 - val_acc: 1.0000\n",
      "\n",
      "Epoch 00006: ReduceLROnPlateau reducing learning rate to 0.0002500000118743628.\n",
      "Epoch 7/50\n",
      "120/120 [==============================] - 260s 2s/step - loss: 0.0196 - acc: 0.9912 - val_loss: 0.0262 - val_acc: 0.9984\n",
      "Epoch 8/50\n",
      "120/120 [==============================] - 257s 2s/step - loss: 0.0166 - acc: 0.9917 - val_loss: 1.0673e-05 - val_acc: 1.0000\n",
      "\n",
      "Epoch 00008: ReduceLROnPlateau reducing learning rate to 0.0001250000059371814.\n",
      "Epoch 9/50\n",
      "120/120 [==============================] - 257s 2s/step - loss: 0.0173 - acc: 0.9915 - val_loss: 0.0262 - val_acc: 0.9984\n",
      "Epoch 10/50\n",
      "120/120 [==============================] - 272s 2s/step - loss: 0.0176 - acc: 0.9917 - val_loss: 2.3050e-07 - val_acc: 1.0000\n",
      "\n",
      "Epoch 00010: ReduceLROnPlateau reducing learning rate to 6.25000029685907e-05.\n",
      "Epoch 11/50\n",
      "120/120 [==============================] - 251s 2s/step - loss: 0.0182 - acc: 0.9917 - val_loss: 3.3547e-07 - val_acc: 1.0000\n",
      "Epoch 12/50\n",
      "120/120 [==============================] - 233s 2s/step - loss: 0.0175 - acc: 0.9917 - val_loss: 0.0252 - val_acc: 0.9984\n",
      "\n",
      "Epoch 00012: ReduceLROnPlateau reducing learning rate to 3.125000148429535e-05.\n",
      "Epoch 13/50\n",
      "120/120 [==============================] - 230s 2s/step - loss: 0.0168 - acc: 0.9917 - val_loss: 0.0262 - val_acc: 0.9984\n",
      "Epoch 14/50\n",
      "120/120 [==============================] - 229s 2s/step - loss: 0.0167 - acc: 0.9917 - val_loss: 1.8002e-07 - val_acc: 1.0000\n",
      "\n",
      "Epoch 00014: ReduceLROnPlateau reducing learning rate to 1.5625000742147677e-05.\n",
      "Epoch 15/50\n",
      "120/120 [==============================] - 229s 2s/step - loss: 0.0166 - acc: 0.9917 - val_loss: 1.6169e-07 - val_acc: 1.0000\n",
      "Epoch 16/50\n",
      "120/120 [==============================] - 223s 2s/step - loss: 0.0181 - acc: 0.9917 - val_loss: 0.0252 - val_acc: 0.9984\n",
      "\n",
      "Epoch 00016: ReduceLROnPlateau reducing learning rate to 1e-05.\n",
      "Epoch 17/50\n",
      "120/120 [==============================] - 239s 2s/step - loss: 0.0179 - acc: 0.9917 - val_loss: 1.7930e-07 - val_acc: 1.0000\n",
      "Epoch 18/50\n",
      "120/120 [==============================] - 242s 2s/step - loss: 0.0190 - acc: 0.9917 - val_loss: 1.6885e-07 - val_acc: 1.0000\n",
      "Epoch 19/50\n",
      "120/120 [==============================] - 252s 2s/step - loss: 0.0156 - acc: 1.0000 - val_loss: 0.0262 - val_acc: 0.9984\n",
      "Epoch 20/50\n",
      "120/120 [==============================] - 234s 2s/step - loss: 0.0179 - acc: 0.9917 - val_loss: 0.0252 - val_acc: 0.9984\n",
      "Epoch 21/50\n",
      "120/120 [==============================] - 232s 2s/step - loss: 0.0165 - acc: 0.9917 - val_loss: 1.4417e-07 - val_acc: 1.0000\n",
      "Epoch 22/50\n",
      "120/120 [==============================] - 241s 2s/step - loss: 0.0170 - acc: 0.9917 - val_loss: 0.0252 - val_acc: 0.9984\n",
      "Epoch 23/50\n",
      "120/120 [==============================] - 224s 2s/step - loss: 0.0177 - acc: 0.9917 - val_loss: 1.4650e-07 - val_acc: 1.0000\n",
      "Epoch 24/50\n",
      "120/120 [==============================] - 229s 2s/step - loss: 0.0182 - acc: 0.9915 - val_loss: 0.0252 - val_acc: 0.9984\n",
      "Epoch 25/50\n",
      "120/120 [==============================] - 232s 2s/step - loss: 0.0182 - acc: 0.9915 - val_loss: 1.6295e-07 - val_acc: 1.0000\n",
      "Epoch 26/50\n",
      "120/120 [==============================] - 231s 2s/step - loss: 0.0167 - acc: 0.9917 - val_loss: 0.0252 - val_acc: 0.9984\n",
      "Epoch 27/50\n",
      "120/120 [==============================] - 227s 2s/step - loss: 0.0170 - acc: 0.9917 - val_loss: 1.4775e-07 - val_acc: 1.0000\n",
      "Epoch 28/50\n",
      "120/120 [==============================] - 226s 2s/step - loss: 0.0187 - acc: 0.9917 - val_loss: 0.0252 - val_acc: 0.9984\n",
      "Epoch 29/50\n",
      "120/120 [==============================] - 225s 2s/step - loss: 0.0154 - acc: 1.0000 - val_loss: 1.5027e-07 - val_acc: 1.0000\n",
      "Epoch 30/50\n",
      "120/120 [==============================] - 8329s 69s/step - loss: 0.0174 - acc: 0.9917 - val_loss: 1.3448e-07 - val_acc: 1.0000\n",
      "Epoch 31/50\n",
      "120/120 [==============================] - 259s 2s/step - loss: 0.0154 - acc: 1.0000 - val_loss: 0.0262 - val_acc: 0.9984\n",
      "Epoch 32/50\n",
      "120/120 [==============================] - 248s 2s/step - loss: 0.0155 - acc: 1.0000 - val_loss: 0.0252 - val_acc: 0.9984\n",
      "Epoch 33/50\n",
      "120/120 [==============================] - 230s 2s/step - loss: 0.0156 - acc: 1.0000 - val_loss: 1.6691e-07 - val_acc: 1.0000\n",
      "Epoch 34/50\n",
      "120/120 [==============================] - 232s 2s/step - loss: 0.0179 - acc: 0.9917 - val_loss: 1.3849e-07 - val_acc: 1.0000\n",
      "Epoch 35/50\n",
      "120/120 [==============================] - 220s 2s/step - loss: 0.0179 - acc: 0.9917 - val_loss: 0.0262 - val_acc: 0.9984\n",
      "Epoch 36/50\n",
      "120/120 [==============================] - 231s 2s/step - loss: 0.0176 - acc: 0.9917 - val_loss: 1.4417e-07 - val_acc: 1.0000\n",
      "Epoch 37/50\n",
      "120/120 [==============================] - 221s 2s/step - loss: 0.0179 - acc: 0.9917 - val_loss: 0.0262 - val_acc: 0.9984\n",
      "Epoch 38/50\n",
      "120/120 [==============================] - 221s 2s/step - loss: 0.0180 - acc: 0.9917 - val_loss: 0.0252 - val_acc: 0.9984\n",
      "Epoch 39/50\n",
      "120/120 [==============================] - 219s 2s/step - loss: 0.0177 - acc: 0.9917 - val_loss: 1.4311e-07 - val_acc: 1.0000\n",
      "Epoch 40/50\n",
      "120/120 [==============================] - 222s 2s/step - loss: 0.0164 - acc: 0.9917 - val_loss: 1.3886e-07 - val_acc: 1.0000\n"
     ]
    },
    {
     "data": {
      "text/plain": [
       "<keras.callbacks.History at 0x163f7a82710>"
      ]
     },
     "execution_count": 20,
     "metadata": {},
     "output_type": "execute_result"
    }
   ],
   "source": [
    "model.fit_generator(x_train,\n",
    "                         steps_per_epoch = 120,\n",
    "                         epochs = 50,\n",
    "                         validation_data = x_test,\n",
    "                         validation_steps = 20,callbacks=callbacks)"
   ]
  },
  {
   "cell_type": "code",
   "execution_count": 21,
   "metadata": {},
   "outputs": [],
   "source": [
    "model.save(\"mymodelfruit.h5\")"
   ]
  },
  {
   "cell_type": "code",
   "execution_count": null,
   "metadata": {},
   "outputs": [],
   "source": []
  }
 ],
 "metadata": {
  "kernelspec": {
   "display_name": "Python 3",
   "language": "python",
   "name": "python3"
  },
  "language_info": {
   "codemirror_mode": {
    "name": "ipython",
    "version": 3
   },
   "file_extension": ".py",
   "mimetype": "text/x-python",
   "name": "python",
   "nbconvert_exporter": "python",
   "pygments_lexer": "ipython3",
   "version": "3.7.1"
  }
 },
 "nbformat": 4,
 "nbformat_minor": 2
}
